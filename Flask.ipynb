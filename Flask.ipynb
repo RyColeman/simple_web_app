{
 "metadata": {
  "name": ""
 },
 "nbformat": 3,
 "nbformat_minor": 0,
 "worksheets": [
  {
   "cells": [
    {
     "cell_type": "markdown",
     "metadata": {},
     "source": [
      "## Refresher on the way that the Web works"
     ]
    },
    {
     "cell_type": "markdown",
     "metadata": {},
     "source": [
      "__Request__: A request message from a client to a server includes, within the first line of that message, the method to be applied to the resource (GET, POST, HEADER, DELETE), the identifier of the resource (holds the data), and the protocol version in use. \n",
      "\n",
      "__ Response__: The first line of a Response message is the Status-Line, consisting of the protocol version followed by a numeric status code and its associated textual phrase, with each element separated by SP characters.\n",
      "\n",
      "Status Code and Reason Phrase: The status code is an attempt to understand the request. The reason phrase is a short description of the status code. For a brief list of status codes look at the [W3C](http://www.w3.org/Protocols/rfc2616/rfc2616-sec6.html) page.\n"
     ]
    },
    {
     "cell_type": "markdown",
     "metadata": {},
     "source": [
      "## Building a Flask Web server\n",
      "\n",
      "We start by installing the libraries that we will use during the build.\n",
      "We can do this in the command line or we can do this in a virtual environment. A virtualenv wraps up all of our web developmen in a virtual machine using specific distributions and versions (ones that deployment platforms support, and versions that co-developers support) ensuring that all development runs with minimal friction. \n"
     ]
    },
    {
     "cell_type": "code",
     "collapsed": false,
     "input": [
      "# $ mkdir flask\n",
      "# $ flask/bin/pip install flask==0.9\n",
      "# $ flask/bin/pip install flask-login\n",
      "# $ flask/bin/pip install flask-openid\n",
      "# $ flask/bin/pip install flask-wtf==0.8.4\n",
      "# $ flask/bin/pip install pytz==2013b\n",
      "\n",
      "# for windows use these commands: \n",
      "# flask\\Scripts\\pip install flask==0.9\n",
      "# flask\\Scripts\\pip install flask-login\n",
      "# flask\\Scripts\\pip install flask-openid\n",
      "# flask\\Scripts\\pip install flask-wtf==0.8.4\n",
      "# flask\\Scripts\\pip install pytz==2013b\n"
     ],
     "language": "python",
     "metadata": {},
     "outputs": []
    },
    {
     "cell_type": "markdown",
     "metadata": {},
     "source": [
      "Start setting up your project: \n",
      "create the following directories:\n",
      " "
     ]
    },
    {
     "cell_type": "code",
     "collapsed": false,
     "input": [
      "# $ mkdir MyProject\n",
      "# $ cd MyProject\n",
      "# $ mkdir app\n",
      "# $ mkdir app/static\n",
      "# $ mkdir app/templates\n",
      "# $ mkdir tmp"
     ],
     "language": "python",
     "metadata": {},
     "outputs": []
    },
    {
     "cell_type": "markdown",
     "metadata": {},
     "source": [
      "The 'static' folder is where we put all of our images and style sheets. the 'templates' directory is where we put all of our page templates. \n",
      "\n",
      "* First we create a run.py file in the root directory (MyProject)\n",
      "* Then we create our first view page in the app subfolder."
     ]
    },
    {
     "cell_type": "code",
     "collapsed": false,
     "input": [
      "# create these files, this won't run in ipython notebook\n",
      "#!flask/bin/python\n",
      "from app import app\n",
      "app.run(debug = True)"
     ],
     "language": "python",
     "metadata": {},
     "outputs": [
      {
       "output_type": "stream",
       "stream": "stderr",
       "text": [
        " * Running on http://127.0.0.1:5000/\n"
       ]
      },
      {
       "output_type": "stream",
       "stream": "stderr",
       "text": [
        " * Restarting with reloader\n"
       ]
      },
      {
       "ename": "SystemExit",
       "evalue": "1",
       "output_type": "pyerr",
       "traceback": [
        "An exception has occurred, use %tb to see the full traceback.\n",
        "\u001b[0;31mSystemExit\u001b[0m\u001b[0;31m:\u001b[0m 1\n"
       ]
      },
      {
       "output_type": "stream",
       "stream": "stderr",
       "text": [
        "To exit: use 'exit', 'quit', or Ctrl-D.\n"
       ]
      }
     ],
     "prompt_number": 4
    },
    {
     "cell_type": "markdown",
     "metadata": {},
     "source": [
      "Then we create an init script that imports our views page:"
     ]
    },
    {
     "cell_type": "code",
     "collapsed": false,
     "input": [
      "from flask import Flask\n",
      "\n",
      "app = Flask(__name__)\n",
      "from app import views"
     ],
     "language": "python",
     "metadata": {},
     "outputs": []
    },
    {
     "cell_type": "markdown",
     "metadata": {},
     "source": [
      "Views Respond to requests from web browsers. \n",
      "In flask views are written as function. \n",
      "Each function is mapped to a URL (or more than one)\n",
      "\n",
      "This is a simple view, when you go to http://www.mysite.com/ or http://www.mysite.com/index it sends an http response with the text hell world to your browser. \n"
     ]
    },
    {
     "cell_type": "code",
     "collapsed": false,
     "input": [
      "from app import app\n",
      "\n",
      "@app.route('/')\n",
      "@app.route('/index')\n",
      "def index():\n",
      "    return \"Hello, World!\""
     ],
     "language": "python",
     "metadata": {},
     "outputs": []
    },
    {
     "cell_type": "markdown",
     "metadata": {},
     "source": [
      "a @ is a decorator, in this context decorators create a mapping from the URL to the index method. "
     ]
    },
    {
     "cell_type": "markdown",
     "metadata": {},
     "source": [
      "To run this application on the web server we create a run.py file that calls the app variable. the app variable contains the flask instance. We have to change permissions before running:  \n"
     ]
    },
    {
     "cell_type": "code",
     "collapsed": false,
     "input": [
      "chmod a+x run.py"
     ],
     "language": "python",
     "metadata": {},
     "outputs": [
      {
       "ename": "SyntaxError",
       "evalue": "invalid syntax (<ipython-input-3-aae5c80ee761>, line 1)",
       "output_type": "pyerr",
       "traceback": [
        "\u001b[0;36m  File \u001b[0;32m\"<ipython-input-3-aae5c80ee761>\"\u001b[0;36m, line \u001b[0;32m1\u001b[0m\n\u001b[0;31m    chmod a+x run.py\u001b[0m\n\u001b[0m          ^\u001b[0m\n\u001b[0;31mSyntaxError\u001b[0m\u001b[0;31m:\u001b[0m invalid syntax\n"
       ]
      }
     ],
     "prompt_number": 3
    },
    {
     "cell_type": "markdown",
     "metadata": {},
     "source": [
      "Then we can start the server from our command line using \n",
      "\n",
      "$ python run.py "
     ]
    },
    {
     "cell_type": "markdown",
     "metadata": {},
     "source": [
      "## Request and response\n"
     ]
    },
    {
     "cell_type": "code",
     "collapsed": false,
     "input": [
      "import pdb\n",
      "import json\n",
      "from flask import Flask, request, Response\n",
      "\n",
      "app = Flask(__name__)\n",
      "\n",
      "@app.route(\"/add\", methods=['POST'])\n",
      "def add():\n",
      "\tpdb.set_trace()\n",
      "\n",
      "\tif request.method == 'POST':\n",
      "\t\tdata = {\n",
      "\t    \t'input'  : request.form,\n",
      "\t\t\t'output' : int(request.form['first']) + int(request.form['second'])\n",
      "\t\t\t}\n",
      "\t\tjs = json.dumps(data)\n",
      "\t\treturn Response(js, status=200, mimetype='application/json')\n",
      "\telse:\n",
      "\t\treturn \"POST NUMBERBERSBERS!!!\"\n",
      "\n",
      "# Order of routes matters\n",
      "@app.route(\"/<name>\")\n",
      "def hello(name):\n",
      "    return \"Hello \" + name + \"!\\nWelcome to slow-awkward-calculator :)\""
     ],
     "language": "python",
     "metadata": {},
     "outputs": []
    },
    {
     "cell_type": "markdown",
     "metadata": {},
     "source": [
      "Now lets add a user page: "
     ]
    },
    {
     "cell_type": "code",
     "collapsed": false,
     "input": [],
     "language": "python",
     "metadata": {},
     "outputs": []
    },
    {
     "cell_type": "code",
     "collapsed": false,
     "input": [
      "# @app.route('/user')\n",
      "# def user():\n",
      "#     user = { 'nickname': 'Oren' } # fake user\n",
      "#     simple_html = '''\n",
      "#         <html>\n",
      "#           <head>\n",
      "#             <title>Home Page</title>\n",
      "#           </head>\n",
      "#           <body>\n",
      "#             <h1>Hello, ''' + user['nickname'] + '''</h1>\n",
      "#           </body>\n",
      "#         </html>\n",
      "#         '''\n",
      "#     return simple_html"
     ],
     "language": "python",
     "metadata": {},
     "outputs": [],
     "prompt_number": 7
    },
    {
     "cell_type": "markdown",
     "metadata": {},
     "source": [
      "this is disgusting, lets simplify: "
     ]
    },
    {
     "cell_type": "markdown",
     "metadata": {},
     "source": [
      "## templates and forms "
     ]
    },
    {
     "cell_type": "markdown",
     "metadata": {},
     "source": [
      "### Templates: \n",
      "We want to keep our code simple, the HTML is disgusting. we want to move it to its own location and call it when necessary: \n"
     ]
    },
    {
     "cell_type": "markdown",
     "metadata": {},
     "source": [
      "thats nice, but what about the template? \n",
      "Create a file called user.html in the template directory:\n"
     ]
    },
    {
     "cell_type": "code",
     "collapsed": false,
     "input": [
      "<html>\n",
      "  <head>\n",
      "    <title>{{title}} - MyApplication</title>\n",
      "  </head>\n",
      "  <body>\n",
      "      <h1>Hello, {{user.nickname}}!</h1>\n",
      "  </body>\n",
      "</html>"
     ],
     "language": "python",
     "metadata": {},
     "outputs": [
      {
       "ename": "SyntaxError",
       "evalue": "invalid syntax (<ipython-input-6-f298cc798b54>, line 1)",
       "output_type": "pyerr",
       "traceback": [
        "\u001b[0;36m  File \u001b[0;32m\"<ipython-input-6-f298cc798b54>\"\u001b[0;36m, line \u001b[0;32m1\u001b[0m\n\u001b[0;31m    <html>\u001b[0m\n\u001b[0m    ^\u001b[0m\n\u001b[0;31mSyntaxError\u001b[0m\u001b[0;31m:\u001b[0m invalid syntax\n"
       ]
      }
     ],
     "prompt_number": 6
    },
    {
     "cell_type": "markdown",
     "metadata": {},
     "source": [
      "Pay attention to the curly braces, this is where we control the inputs to the template. We control it from the function in views.py: "
     ]
    },
    {
     "cell_type": "code",
     "collapsed": false,
     "input": [
      "@app.route('/user2')\n",
      "def user2():\n",
      "    user = { 'nickname': 'Oren' }\n",
      "    return render_template(\"user.html\",\n",
      "        title = 'Home',\n",
      "        user = user)    "
     ],
     "language": "python",
     "metadata": {},
     "outputs": [],
     "prompt_number": 5
    },
    {
     "cell_type": "markdown",
     "metadata": {},
     "source": [
      "### Conrol in templates:\n",
      "The Jinja2 templating engine handles a lot of the magic. Jinja templates are beyond this sprint but you can find more about them in [Miguel Grinbergs blog](http://blog.miguelgrinberg.com/post/the-flask-mega-tutorial-part-ii-templates)"
     ]
    },
    {
     "cell_type": "markdown",
     "metadata": {},
     "source": [
      "## Forms\n",
      "\n",
      "Forms are what we use to send a request to a web server. We need to config a bit before we can use them: "
     ]
    },
    {
     "cell_type": "code",
     "collapsed": false,
     "input": [
      "# config.py\n",
      "CSRF_ENABLED = True\n",
      "SECRET_KEY = 'you-will-never-guess'\n",
      "\n",
      "# __init__.py\n",
      "app = Flask(__name__)\n",
      "app.config.from_object('config')\n",
      "\n",
      "# view.py\n",
      "@app.route('/predict', methods=['GET','POST'])\n",
      "def predict():\n",
      "    article = request.form['article']\n"
     ],
     "language": "python",
     "metadata": {},
     "outputs": []
    },
    {
     "cell_type": "markdown",
     "metadata": {},
     "source": [
      "The new thing here is the methods argument in the route decorator. Without this the method will only accept GET posts.  "
     ]
    }
   ],
   "metadata": {}
  }
 ]
}